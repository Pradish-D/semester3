{
 "cells": [
  {
   "cell_type": "code",
   "execution_count": 29,
   "id": "d68250af",
   "metadata": {},
   "outputs": [],
   "source": [
    "l1=[\"PDS\",10,5+2j]"
   ]
  },
  {
   "cell_type": "code",
   "execution_count": 30,
   "id": "219882f7",
   "metadata": {},
   "outputs": [
    {
     "data": {
      "text/plain": [
       "['PDS', 10, (5+2j)]"
      ]
     },
     "execution_count": 30,
     "metadata": {},
     "output_type": "execute_result"
    }
   ],
   "source": [
    "l1"
   ]
  },
  {
   "cell_type": "code",
   "execution_count": 31,
   "id": "d57754eb",
   "metadata": {},
   "outputs": [],
   "source": [
    "l1.append(10)"
   ]
  },
  {
   "cell_type": "code",
   "execution_count": 32,
   "id": "169500cd",
   "metadata": {},
   "outputs": [
    {
     "data": {
      "text/plain": [
       "['PDS', 10, (5+2j), 10]"
      ]
     },
     "execution_count": 32,
     "metadata": {},
     "output_type": "execute_result"
    }
   ],
   "source": [
    "l1"
   ]
  },
  {
   "cell_type": "code",
   "execution_count": 33,
   "id": "506f2015",
   "metadata": {},
   "outputs": [
    {
     "data": {
      "text/plain": [
       "'PDS'"
      ]
     },
     "execution_count": 33,
     "metadata": {},
     "output_type": "execute_result"
    }
   ],
   "source": [
    "l1[0]"
   ]
  },
  {
   "cell_type": "markdown",
   "id": "994871b8",
   "metadata": {},
   "source": [
    "characteristics of LIST\n",
    "# supports multiple data type\n",
    "# allows mutability\n",
    "# allows repeatablility"
   ]
  },
  {
   "cell_type": "code",
   "execution_count": 39,
   "id": "1328fdd2",
   "metadata": {},
   "outputs": [],
   "source": [
    "tup1=(\"PDS\",10,5+2j,10)"
   ]
  },
  {
   "cell_type": "code",
   "execution_count": 40,
   "id": "349ba92d",
   "metadata": {},
   "outputs": [
    {
     "data": {
      "text/plain": [
       "('PDS', 10, (5+2j), 10)"
      ]
     },
     "execution_count": 40,
     "metadata": {},
     "output_type": "execute_result"
    }
   ],
   "source": [
    "tup1"
   ]
  },
  {
   "cell_type": "code",
   "execution_count": 38,
   "id": "05be47bc",
   "metadata": {},
   "outputs": [
    {
     "ename": "AttributeError",
     "evalue": "'tuple' object has no attribute 'append'",
     "output_type": "error",
     "traceback": [
      "\u001b[1;31m---------------------------------------------------------------------------\u001b[0m",
      "\u001b[1;31mAttributeError\u001b[0m                            Traceback (most recent call last)",
      "Cell \u001b[1;32mIn[38], line 1\u001b[0m\n\u001b[1;32m----> 1\u001b[0m \u001b[43mtup1\u001b[49m\u001b[38;5;241;43m.\u001b[39;49m\u001b[43mappend\u001b[49m(\u001b[38;5;241m10\u001b[39m)\n",
      "\u001b[1;31mAttributeError\u001b[0m: 'tuple' object has no attribute 'append'"
     ]
    }
   ],
   "source": [
    "tup1.append(10)"
   ]
  },
  {
   "cell_type": "markdown",
   "id": "d97d9046",
   "metadata": {},
   "source": [
    "CHARATERISTICS OF  TUPLE\n",
    "# Allows multiple data type\n",
    "# allows Repeatalbility\n",
    "# immutable"
   ]
  },
  {
   "cell_type": "markdown",
   "id": "440c87c2",
   "metadata": {},
   "source": [
    "# MAPPING - DICTIONARY"
   ]
  },
  {
   "cell_type": "code",
   "execution_count": 2,
   "id": "c4dcfa94",
   "metadata": {},
   "outputs": [],
   "source": [
    "NAMES={1:'SHIYAM',2:'ARUN',3:'GUPTHA',4:'VISHNU'}"
   ]
  },
  {
   "cell_type": "code",
   "execution_count": 3,
   "id": "e02e1416",
   "metadata": {},
   "outputs": [
    {
     "data": {
      "text/plain": [
       "dict"
      ]
     },
     "execution_count": 3,
     "metadata": {},
     "output_type": "execute_result"
    }
   ],
   "source": [
    "type(NAMES)"
   ]
  },
  {
   "cell_type": "code",
   "execution_count": 6,
   "id": "b7ff4ab8",
   "metadata": {},
   "outputs": [
    {
     "data": {
      "text/plain": [
       "dict_values(['SHIYAM', 'ARUN', 'GUPTHA', 'VISHNU'])"
      ]
     },
     "execution_count": 6,
     "metadata": {},
     "output_type": "execute_result"
    }
   ],
   "source": [
    "NAMES.values()"
   ]
  },
  {
   "cell_type": "code",
   "execution_count": 7,
   "id": "ed4bb490",
   "metadata": {},
   "outputs": [
    {
     "data": {
      "text/plain": [
       "dict_keys([1, 2, 3, 4])"
      ]
     },
     "execution_count": 7,
     "metadata": {},
     "output_type": "execute_result"
    }
   ],
   "source": [
    "NAMES.keys()"
   ]
  },
  {
   "cell_type": "code",
   "execution_count": 10,
   "id": "0c4bc68d",
   "metadata": {},
   "outputs": [
    {
     "ename": "KeyError",
     "evalue": "'SHIYAM'",
     "output_type": "error",
     "traceback": [
      "\u001b[1;31m---------------------------------------------------------------------------\u001b[0m",
      "\u001b[1;31mKeyError\u001b[0m                                  Traceback (most recent call last)",
      "Cell \u001b[1;32mIn[10], line 1\u001b[0m\n\u001b[1;32m----> 1\u001b[0m \u001b[43mNAMES\u001b[49m\u001b[43m[\u001b[49m\u001b[38;5;124;43m'\u001b[39;49m\u001b[38;5;124;43mSHIYAM\u001b[39;49m\u001b[38;5;124;43m'\u001b[39;49m\u001b[43m]\u001b[49m\n",
      "\u001b[1;31mKeyError\u001b[0m: 'SHIYAM'"
     ]
    }
   ],
   "source": [
    "NAMES['SHIYAM']"
   ]
  },
  {
   "cell_type": "code",
   "execution_count": 11,
   "id": "1933481f",
   "metadata": {},
   "outputs": [],
   "source": [
    "NAMES[1]=\"ARUN\""
   ]
  },
  {
   "cell_type": "code",
   "execution_count": 12,
   "id": "2cd25f58",
   "metadata": {},
   "outputs": [
    {
     "data": {
      "text/plain": [
       "{1: 'ARUN', 2: 'ARUN', 3: 'GUPTHA', 4: 'VISHNU'}"
      ]
     },
     "execution_count": 12,
     "metadata": {},
     "output_type": "execute_result"
    }
   ],
   "source": [
    "NAMES"
   ]
  },
  {
   "cell_type": "code",
   "execution_count": 13,
   "id": "203960b5",
   "metadata": {},
   "outputs": [],
   "source": [
    "DETAIL={\"NAME\":\"SHIYAM\",\"AGE\":18,\"BG\":\"A+VE\"}"
   ]
  },
  {
   "cell_type": "code",
   "execution_count": 14,
   "id": "e8742b1b",
   "metadata": {},
   "outputs": [
    {
     "data": {
      "text/plain": [
       "{'NAME': 'SHIYAM', 'AGE': 18, 'BG': 'A+VE'}"
      ]
     },
     "execution_count": 14,
     "metadata": {},
     "output_type": "execute_result"
    }
   ],
   "source": [
    "DETAIL"
   ]
  },
  {
   "cell_type": "code",
   "execution_count": 16,
   "id": "89670640",
   "metadata": {},
   "outputs": [
    {
     "data": {
      "text/plain": [
       "'SHIYAM'"
      ]
     },
     "execution_count": 16,
     "metadata": {},
     "output_type": "execute_result"
    }
   ],
   "source": [
    "DETAIL[\"NAME\"]"
   ]
  },
  {
   "cell_type": "code",
   "execution_count": 17,
   "id": "8eac9ea8",
   "metadata": {},
   "outputs": [
    {
     "data": {
      "text/plain": [
       "3"
      ]
     },
     "execution_count": 17,
     "metadata": {},
     "output_type": "execute_result"
    }
   ],
   "source": [
    "len(DETAIL)"
   ]
  },
  {
   "cell_type": "code",
   "execution_count": 18,
   "id": "6a0be7c0",
   "metadata": {},
   "outputs": [
    {
     "data": {
      "text/plain": [
       "'SHIYAM'"
      ]
     },
     "execution_count": 18,
     "metadata": {},
     "output_type": "execute_result"
    }
   ],
   "source": [
    "DETAIL.pop('NAME')"
   ]
  },
  {
   "cell_type": "markdown",
   "id": "c90cc377",
   "metadata": {},
   "source": [
    "# SET"
   ]
  },
  {
   "cell_type": "code",
   "execution_count": 25,
   "id": "04236c53",
   "metadata": {},
   "outputs": [],
   "source": [
    "DETAIL2={\"SHIYAM:18\",\"ARUN18\",\"PDS:30\"}"
   ]
  },
  {
   "cell_type": "code",
   "execution_count": 26,
   "id": "ea57e759",
   "metadata": {},
   "outputs": [
    {
     "data": {
      "text/plain": [
       "set"
      ]
     },
     "execution_count": 26,
     "metadata": {},
     "output_type": "execute_result"
    }
   ],
   "source": [
    "type(DETAIL2)"
   ]
  },
  {
   "cell_type": "code",
   "execution_count": 28,
   "id": "025a0949",
   "metadata": {},
   "outputs": [
    {
     "data": {
      "text/plain": [
       "{'ARUN18', 'PDS:30', 'SHIYAM:18'}"
      ]
     },
     "execution_count": 28,
     "metadata": {},
     "output_type": "execute_result"
    }
   ],
   "source": [
    "DETAIL2"
   ]
  },
  {
   "cell_type": "code",
   "execution_count": 33,
   "id": "104bca14",
   "metadata": {},
   "outputs": [],
   "source": [
    "DETAIL2.update({\"Balajee\",\"AFZAL\"})"
   ]
  },
  {
   "cell_type": "code",
   "execution_count": 34,
   "id": "1170661f",
   "metadata": {},
   "outputs": [
    {
     "data": {
      "text/plain": [
       "{'AFZAL', 'ARUN18', 'Balajee', 'PDS:30', 'SHIYAM:18', 'balaji'}"
      ]
     },
     "execution_count": 34,
     "metadata": {},
     "output_type": "execute_result"
    }
   ],
   "source": [
    "DETAIL2"
   ]
  },
  {
   "cell_type": "code",
   "execution_count": 36,
   "id": "afc00cbd",
   "metadata": {},
   "outputs": [],
   "source": [
    "DETAIL3=frozenset({\"Balajee\",\"AFZAL\"})"
   ]
  },
  {
   "cell_type": "code",
   "execution_count": 38,
   "id": "f8454d1c",
   "metadata": {},
   "outputs": [
    {
     "data": {
      "text/plain": [
       "frozenset"
      ]
     },
     "execution_count": 38,
     "metadata": {},
     "output_type": "execute_result"
    }
   ],
   "source": [
    "type(DETAIL3)"
   ]
  },
  {
   "cell_type": "code",
   "execution_count": 39,
   "id": "d69ac745",
   "metadata": {},
   "outputs": [
    {
     "data": {
      "text/plain": [
       "frozenset({'AFZAL', 'Balajee'})"
      ]
     },
     "execution_count": 39,
     "metadata": {},
     "output_type": "execute_result"
    }
   ],
   "source": [
    "DETAIL3"
   ]
  },
  {
   "cell_type": "code",
   "execution_count": 41,
   "id": "330080ba",
   "metadata": {},
   "outputs": [
    {
     "ename": "AttributeError",
     "evalue": "'frozenset' object has no attribute 'add'",
     "output_type": "error",
     "traceback": [
      "\u001b[1;31m---------------------------------------------------------------------------\u001b[0m",
      "\u001b[1;31mAttributeError\u001b[0m                            Traceback (most recent call last)",
      "Cell \u001b[1;32mIn[41], line 1\u001b[0m\n\u001b[1;32m----> 1\u001b[0m \u001b[43mDETAIL3\u001b[49m\u001b[38;5;241;43m.\u001b[39;49m\u001b[43madd\u001b[49m(\u001b[38;5;124m\"\u001b[39m\u001b[38;5;124mAHSJ\u001b[39m\u001b[38;5;124m\"\u001b[39m)\n",
      "\u001b[1;31mAttributeError\u001b[0m: 'frozenset' object has no attribute 'add'"
     ]
    }
   ],
   "source": [
    "DETAIL3.add(\"AHSJ\")"
   ]
  },
  {
   "cell_type": "code",
   "execution_count": 42,
   "id": "f8b22aba",
   "metadata": {},
   "outputs": [
    {
     "ename": "AttributeError",
     "evalue": "'frozenset' object has no attribute 'update'",
     "output_type": "error",
     "traceback": [
      "\u001b[1;31m---------------------------------------------------------------------------\u001b[0m",
      "\u001b[1;31mAttributeError\u001b[0m                            Traceback (most recent call last)",
      "Cell \u001b[1;32mIn[42], line 1\u001b[0m\n\u001b[1;32m----> 1\u001b[0m \u001b[43mDETAIL3\u001b[49m\u001b[38;5;241;43m.\u001b[39;49m\u001b[43mupdate\u001b[49m({\u001b[38;5;124m\"\u001b[39m\u001b[38;5;124mhdjh\u001b[39m\u001b[38;5;124m\"\u001b[39m,\u001b[38;5;124m\"\u001b[39m\u001b[38;5;124mhj\u001b[39m\u001b[38;5;124m\"\u001b[39m,\u001b[38;5;241m12\u001b[39m})\n",
      "\u001b[1;31mAttributeError\u001b[0m: 'frozenset' object has no attribute 'update'"
     ]
    }
   ],
   "source": [
    "DETAIL3.update({\"hdjh\",\"hj\",12})"
   ]
  },
  {
   "cell_type": "code",
   "execution_count": 44,
   "id": "0e0ce7fa",
   "metadata": {},
   "outputs": [
    {
     "data": {
      "text/plain": [
       "False"
      ]
     },
     "execution_count": 44,
     "metadata": {},
     "output_type": "execute_result"
    }
   ],
   "source": [
    "a=40\n",
    "b=10\n",
    "a<b"
   ]
  },
  {
   "cell_type": "code",
   "execution_count": null,
   "id": "39317930",
   "metadata": {},
   "outputs": [],
   "source": []
  }
 ],
 "metadata": {
  "kernelspec": {
   "display_name": "Python 3 (ipykernel)",
   "language": "python",
   "name": "python3"
  },
  "language_info": {
   "codemirror_mode": {
    "name": "ipython",
    "version": 3
   },
   "file_extension": ".py",
   "mimetype": "text/x-python",
   "name": "python",
   "nbconvert_exporter": "python",
   "pygments_lexer": "ipython3",
   "version": "3.9.17"
  }
 },
 "nbformat": 4,
 "nbformat_minor": 5
}
